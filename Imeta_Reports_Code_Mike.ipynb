{
  "cells": [
    {
      "cell_type": "markdown",
      "metadata": {
        "id": "view-in-github",
        "colab_type": "text"
      },
      "source": [
        "<a href=\"https://colab.research.google.com/github/dipoadeniyi/1.-SQL/blob/main/Imeta_Reports_Code_Mike.ipynb\" target=\"_parent\"><img src=\"https://colab.research.google.com/assets/colab-badge.svg\" alt=\"Open In Colab\"/></a>"
      ]
    },
    {
      "cell_type": "code",
      "execution_count": null,
      "metadata": {
        "colab": {
          "base_uri": "https://localhost:8080/"
        },
        "id": "ikfua-yzagvF",
        "outputId": "90ae7c77-0cfb-43e7-ead0-edaa28cc5345"
      },
      "outputs": [
        {
          "output_type": "stream",
          "name": "stdout",
          "text": [
            "Drive already mounted at /content/drive; to attempt to forcibly remount, call drive.mount(\"/content/drive\", force_remount=True).\n"
          ]
        }
      ],
      "source": [
        "from google.colab import drive\n",
        "drive.mount('/content/drive')"
      ]
    },
    {
      "cell_type": "code",
      "source": [
        "#Rename Names of long file names DBS03\n",
        "import os\n",
        "import re\n",
        "\n",
        "# Define the list of folder paths\n",
        "folder_paths = [\n",
        "    '/content/drive/MyDrive/Imeta Docs/IMETA CURRICULUM AND SCHEME OF WORK/BDA Programme/3rd DBS Cohort/Reports/week 9/D1',\n",
        "    '/content/drive/MyDrive/Imeta Docs/IMETA CURRICULUM AND SCHEME OF WORK/BDA Programme/3rd DBS Cohort/Reports/week 9/D2',\n",
        "    '/content/drive/MyDrive/Imeta Docs/IMETA CURRICULUM AND SCHEME OF WORK/BDA Programme/3rd DBS Cohort/Reports/week 9/D3',\n",
        "    '/content/drive/MyDrive/Imeta Docs/IMETA CURRICULUM AND SCHEME OF WORK/BDA Programme/3rd DBS Cohort/Reports/week 9/D4'\n",
        "]\n",
        "\n",
        "def rename_files_in_folders(folder_paths):\n",
        "    for folder_path in folder_paths:\n",
        "        print(f\"Checking folder: {folder_path}\")\n",
        "        if not os.path.exists(folder_path):\n",
        "            print(f\"Folder not found: {folder_path}\")\n",
        "            continue\n",
        "\n",
        "        for filename in os.listdir(folder_path):\n",
        "            print(f\"Found file: {filename}\")\n",
        "            if filename.endswith('.pdf'):\n",
        "                # Remove \"Session from ...\" or anything before 'PM_' and extract only the name\n",
        "                if 'PM_' in filename:\n",
        "                    name_part = filename.split('PM_')[-1]\n",
        "                else:\n",
        "                    name_part = filename\n",
        "\n",
        "                # Remove session timestamp or extra long descriptors before/after name using regex\n",
        "                name_part = re.sub(r'Session from .*?PM_', '', name_part)\n",
        "                name_part = re.sub(r'Session from .*?', '', name_part)\n",
        "\n",
        "                # Remove .pdf if it exists in name_part (we'll add it later)\n",
        "                name_part = name_part.replace('.pdf', '')\n",
        "\n",
        "                # Replace underscores with spaces\n",
        "                clean_name = name_part.replace('_', ' ').strip()\n",
        "\n",
        "                # Add .pdf extension\n",
        "                clean_name += '.pdf'\n",
        "\n",
        "                old_file_path = os.path.join(folder_path, filename)\n",
        "                new_file_path = os.path.join(folder_path, clean_name)\n",
        "\n",
        "                try:\n",
        "                    os.rename(old_file_path, new_file_path)\n",
        "                    print(f\"Renamed: {filename} → {clean_name}\")\n",
        "                except Exception as e:\n",
        "                    print(f\"Error renaming file {filename}: {e}\")\n",
        "\n",
        "# Run the renaming function\n",
        "rename_files_in_folders(folder_paths)"
      ],
      "metadata": {
        "id": "q7kwjjxpXxUl"
      },
      "execution_count": null,
      "outputs": []
    },
    {
      "cell_type": "code",
      "source": [
        "#Rename Names of long file names BDA09\n",
        "import os\n",
        "import re\n",
        "\n",
        "# Define the list of folder paths\n",
        "folder_paths = [\n",
        "    '/content/drive/MyDrive/Imeta Docs/IMETA CURRICULUM AND SCHEME OF WORK/BDA Programme/3rd DBS Cohort/Reports/week 9/D1',\n",
        "    '/content/drive/MyDrive/Imeta Docs/IMETA CURRICULUM AND SCHEME OF WORK/BDA Programme/3rd DBS Cohort/Reports/week 9/D2',\n",
        "    '/content/drive/MyDrive/Imeta Docs/IMETA CURRICULUM AND SCHEME OF WORK/BDA Programme/3rd DBS Cohort/Reports/week 9/D3',\n",
        "    '/content/drive/MyDrive/Imeta Docs/IMETA CURRICULUM AND SCHEME OF WORK/BDA Programme/3rd DBS Cohort/Reports/week 9/D4'\n",
        "]\n",
        "\n",
        "def rename_files_in_folders(folder_paths):\n",
        "    for folder_path in folder_paths:\n",
        "        print(f\"Checking folder: {folder_path}\")\n",
        "        if not os.path.exists(folder_path):\n",
        "            print(f\"Folder not found: {folder_path}\")\n",
        "            continue\n",
        "\n",
        "        for filename in os.listdir(folder_path):\n",
        "            print(f\"Found file: {filename}\")\n",
        "            if filename.endswith('.pdf'):\n",
        "                # Remove \"Session from ...\" or anything before 'PM_' and extract only the name\n",
        "                if 'PM_' in filename:\n",
        "                    name_part = filename.split('PM_')[-1]\n",
        "                else:\n",
        "                    name_part = filename\n",
        "\n",
        "                # Remove session timestamp or extra long descriptors before/after name using regex\n",
        "                name_part = re.sub(r'Session from .*?PM_', '', name_part)\n",
        "                name_part = re.sub(r'Session from .*?', '', name_part)\n",
        "\n",
        "                # Remove .pdf if it exists in name_part (we'll add it later)\n",
        "                name_part = name_part.replace('.pdf', '')\n",
        "\n",
        "                # Replace underscores with spaces\n",
        "                clean_name = name_part.replace('_', ' ').strip()\n",
        "\n",
        "                # Add .pdf extension\n",
        "                clean_name += '.pdf'\n",
        "\n",
        "                old_file_path = os.path.join(folder_path, filename)\n",
        "                new_file_path = os.path.join(folder_path, clean_name)\n",
        "\n",
        "                try:\n",
        "                    os.rename(old_file_path, new_file_path)\n",
        "                    print(f\"Renamed: {filename} → {clean_name}\")\n",
        "                except Exception as e:\n",
        "                    print(f\"Error renaming file {filename}: {e}\")\n",
        "\n",
        "# Run the renaming function\n",
        "rename_files_in_folders(folder_paths)"
      ],
      "metadata": {
        "id": "HcU9B6imXON_"
      },
      "execution_count": null,
      "outputs": []
    },
    {
      "cell_type": "code",
      "execution_count": null,
      "metadata": {
        "colab": {
          "base_uri": "https://localhost:8080/"
        },
        "id": "WQJAWPEoOHbK",
        "outputId": "5c66a14a-7682-477d-8ad1-69fd70e95fdb"
      },
      "outputs": [
        {
          "output_type": "stream",
          "name": "stdout",
          "text": [
            "Collecting fuzzywuzzy\n",
            "  Downloading fuzzywuzzy-0.18.0-py2.py3-none-any.whl.metadata (4.9 kB)\n",
            "Downloading fuzzywuzzy-0.18.0-py2.py3-none-any.whl (18 kB)\n",
            "Installing collected packages: fuzzywuzzy\n",
            "Successfully installed fuzzywuzzy-0.18.0\n"
          ]
        }
      ],
      "source": [
        "!pip install fuzzywuzzy"
      ]
    },
    {
      "cell_type": "code",
      "execution_count": null,
      "metadata": {
        "colab": {
          "base_uri": "https://localhost:8080/"
        },
        "id": "re57sXHHOSUy",
        "outputId": "84e5e80d-146b-4220-95b2-fd56c0b9e6c9"
      },
      "outputs": [
        {
          "output_type": "stream",
          "name": "stdout",
          "text": [
            "Collecting python-Levenshtein\n",
            "  Downloading python_levenshtein-0.27.1-py3-none-any.whl.metadata (3.7 kB)\n",
            "Collecting Levenshtein==0.27.1 (from python-Levenshtein)\n",
            "  Downloading levenshtein-0.27.1-cp311-cp311-manylinux_2_17_x86_64.manylinux2014_x86_64.whl.metadata (3.6 kB)\n",
            "Collecting rapidfuzz<4.0.0,>=3.9.0 (from Levenshtein==0.27.1->python-Levenshtein)\n",
            "  Downloading rapidfuzz-3.13.0-cp311-cp311-manylinux_2_17_x86_64.manylinux2014_x86_64.whl.metadata (12 kB)\n",
            "Downloading python_levenshtein-0.27.1-py3-none-any.whl (9.4 kB)\n",
            "Downloading levenshtein-0.27.1-cp311-cp311-manylinux_2_17_x86_64.manylinux2014_x86_64.whl (161 kB)\n",
            "\u001b[2K   \u001b[90m━━━━━━━━━━━━━━━━━━━━━━━━━━━━━━━━━━━━━━━━\u001b[0m \u001b[32m161.7/161.7 kB\u001b[0m \u001b[31m6.3 MB/s\u001b[0m eta \u001b[36m0:00:00\u001b[0m\n",
            "\u001b[?25hDownloading rapidfuzz-3.13.0-cp311-cp311-manylinux_2_17_x86_64.manylinux2014_x86_64.whl (3.1 MB)\n",
            "\u001b[2K   \u001b[90m━━━━━━━━━━━━━━━━━━━━━━━━━━━━━━━━━━━━━━━━\u001b[0m \u001b[32m3.1/3.1 MB\u001b[0m \u001b[31m56.1 MB/s\u001b[0m eta \u001b[36m0:00:00\u001b[0m\n",
            "\u001b[?25hInstalling collected packages: rapidfuzz, Levenshtein, python-Levenshtein\n",
            "Successfully installed Levenshtein-0.27.1 python-Levenshtein-0.27.1 rapidfuzz-3.13.0\n"
          ]
        }
      ],
      "source": [
        "!pip install python-Levenshtein"
      ]
    },
    {
      "cell_type": "code",
      "execution_count": null,
      "metadata": {
        "colab": {
          "base_uri": "https://localhost:8080/"
        },
        "id": "_rBSpw_1OjOk",
        "outputId": "1a7afe2c-c82b-4634-a377-c47fe272c477"
      },
      "outputs": [
        {
          "output_type": "stream",
          "name": "stdout",
          "text": [
            "Collecting PyPDF2\n",
            "  Downloading pypdf2-3.0.1-py3-none-any.whl.metadata (6.8 kB)\n",
            "Downloading pypdf2-3.0.1-py3-none-any.whl (232 kB)\n",
            "\u001b[?25l   \u001b[90m━━━━━━━━━━━━━━━━━━━━━━━━━━━━━━━━━━━━━━━━\u001b[0m \u001b[32m0.0/232.6 kB\u001b[0m \u001b[31m?\u001b[0m eta \u001b[36m-:--:--\u001b[0m\r\u001b[2K   \u001b[90m━━━━━━━━━━━━━━━━━━━━━━━━━━━━━━━━━━━━━━━━\u001b[0m \u001b[32m232.6/232.6 kB\u001b[0m \u001b[31m6.6 MB/s\u001b[0m eta \u001b[36m0:00:00\u001b[0m\n",
            "\u001b[?25hInstalling collected packages: PyPDF2\n",
            "Successfully installed PyPDF2-3.0.1\n"
          ]
        }
      ],
      "source": [
        "!pip install PyPDF2"
      ]
    },
    {
      "cell_type": "code",
      "execution_count": null,
      "metadata": {
        "colab": {
          "base_uri": "https://localhost:8080/"
        },
        "id": "GwLfkdPjNA4U",
        "outputId": "68c9fc7a-d9c6-48f2-a6af-81294b612933"
      },
      "outputs": [
        {
          "output_type": "stream",
          "name": "stdout",
          "text": [
            "Merged exact name files into /content/drive/MyDrive/Imeta Docs/IMETA CURRICULUM AND SCHEME OF WORK/BDA Programme/3rd DBS Cohort/Reports/week 9/merged/Agutembergues Silvares.pdf\n",
            "Merged exact name files into /content/drive/MyDrive/Imeta Docs/IMETA CURRICULUM AND SCHEME OF WORK/BDA Programme/3rd DBS Cohort/Reports/week 9/merged/Abdulahi Botan.pdf\n",
            "Merged exact name files into /content/drive/MyDrive/Imeta Docs/IMETA CURRICULUM AND SCHEME OF WORK/BDA Programme/3rd DBS Cohort/Reports/week 9/merged/Ashvinder Kaur.pdf\n",
            "Merged exact name files into /content/drive/MyDrive/Imeta Docs/IMETA CURRICULUM AND SCHEME OF WORK/BDA Programme/3rd DBS Cohort/Reports/week 9/merged/Amaan Iqbal.pdf\n",
            "Merged exact name files into /content/drive/MyDrive/Imeta Docs/IMETA CURRICULUM AND SCHEME OF WORK/BDA Programme/3rd DBS Cohort/Reports/week 9/merged/Justice Orih.pdf\n",
            "Merged exact name files into /content/drive/MyDrive/Imeta Docs/IMETA CURRICULUM AND SCHEME OF WORK/BDA Programme/3rd DBS Cohort/Reports/week 9/merged/Karolina Grabowska.pdf\n",
            "Merged exact name files into /content/drive/MyDrive/Imeta Docs/IMETA CURRICULUM AND SCHEME OF WORK/BDA Programme/3rd DBS Cohort/Reports/week 9/merged/Ayan salah.pdf\n",
            "Merged exact name files into /content/drive/MyDrive/Imeta Docs/IMETA CURRICULUM AND SCHEME OF WORK/BDA Programme/3rd DBS Cohort/Reports/week 9/merged/Ayotope Akinsanya.pdf\n",
            "The file 'Hakeem Uddin' appears only in one folder.\n",
            "Do you want to move this file to the merged folder? (y/n): y\n",
            "Moved single file into /content/drive/MyDrive/Imeta Docs/IMETA CURRICULUM AND SCHEME OF WORK/BDA Programme/3rd DBS Cohort/Reports/week 9/merged/Hakeem Uddin.pdf\n",
            "Merged exact name files into /content/drive/MyDrive/Imeta Docs/IMETA CURRICULUM AND SCHEME OF WORK/BDA Programme/3rd DBS Cohort/Reports/week 9/merged/E.pdf\n",
            "Merged exact name files into /content/drive/MyDrive/Imeta Docs/IMETA CURRICULUM AND SCHEME OF WORK/BDA Programme/3rd DBS Cohort/Reports/week 9/merged/Faizan Khan.pdf\n",
            "Merged exact name files into /content/drive/MyDrive/Imeta Docs/IMETA CURRICULUM AND SCHEME OF WORK/BDA Programme/3rd DBS Cohort/Reports/week 9/merged/Marija Magdalena Serafinas.pdf\n",
            "Merged exact name files into /content/drive/MyDrive/Imeta Docs/IMETA CURRICULUM AND SCHEME OF WORK/BDA Programme/3rd DBS Cohort/Reports/week 9/merged/Molly Beth Ashfield-Hayes.pdf\n",
            "Merged exact name files into /content/drive/MyDrive/Imeta Docs/IMETA CURRICULUM AND SCHEME OF WORK/BDA Programme/3rd DBS Cohort/Reports/week 9/merged/Lucy Bird.pdf\n",
            "Merged exact name files into /content/drive/MyDrive/Imeta Docs/IMETA CURRICULUM AND SCHEME OF WORK/BDA Programme/3rd DBS Cohort/Reports/week 9/merged/Qasim Muhammad.pdf\n",
            "Merged exact name files into /content/drive/MyDrive/Imeta Docs/IMETA CURRICULUM AND SCHEME OF WORK/BDA Programme/3rd DBS Cohort/Reports/week 9/merged/Mario Sebastian Casoni.pdf\n",
            "Merged exact name files into /content/drive/MyDrive/Imeta Docs/IMETA CURRICULUM AND SCHEME OF WORK/BDA Programme/3rd DBS Cohort/Reports/week 9/merged/Samiul Hussain.pdf\n",
            "Merged exact name files into /content/drive/MyDrive/Imeta Docs/IMETA CURRICULUM AND SCHEME OF WORK/BDA Programme/3rd DBS Cohort/Reports/week 9/merged/Sebastian Stoica.pdf\n",
            "Merged exact name files into /content/drive/MyDrive/Imeta Docs/IMETA CURRICULUM AND SCHEME OF WORK/BDA Programme/3rd DBS Cohort/Reports/week 9/merged/Sophia Kamikamica.pdf\n",
            "Merged exact name files into /content/drive/MyDrive/Imeta Docs/IMETA CURRICULUM AND SCHEME OF WORK/BDA Programme/3rd DBS Cohort/Reports/week 9/merged/Sehreen Qurban.pdf\n",
            "Merged exact name files into /content/drive/MyDrive/Imeta Docs/IMETA CURRICULUM AND SCHEME OF WORK/BDA Programme/3rd DBS Cohort/Reports/week 9/merged/Syed Nabeel Hasan.pdf\n",
            "Merged exact name files into /content/drive/MyDrive/Imeta Docs/IMETA CURRICULUM AND SCHEME OF WORK/BDA Programme/3rd DBS Cohort/Reports/week 9/merged/Ying Wang Andres Law.pdf\n",
            "Merged exact name files into /content/drive/MyDrive/Imeta Docs/IMETA CURRICULUM AND SCHEME OF WORK/BDA Programme/3rd DBS Cohort/Reports/week 9/merged/Waqas Shabir.pdf\n",
            "Merged exact name files into /content/drive/MyDrive/Imeta Docs/IMETA CURRICULUM AND SCHEME OF WORK/BDA Programme/3rd DBS Cohort/Reports/week 9/merged/Andrew Mackinnon.pdf\n",
            "Merged exact name files into /content/drive/MyDrive/Imeta Docs/IMETA CURRICULUM AND SCHEME OF WORK/BDA Programme/3rd DBS Cohort/Reports/week 9/merged/Ella Petrova.pdf\n",
            "Merged exact name files into /content/drive/MyDrive/Imeta Docs/IMETA CURRICULUM AND SCHEME OF WORK/BDA Programme/3rd DBS Cohort/Reports/week 9/merged/Lina Aslam.pdf\n",
            "Merged exact name files into /content/drive/MyDrive/Imeta Docs/IMETA CURRICULUM AND SCHEME OF WORK/BDA Programme/3rd DBS Cohort/Reports/week 9/merged/Warnakulasuriya Jayalath.pdf\n"
          ]
        }
      ],
      "source": [
        "#Merged DBS03 Files\n",
        "import os\n",
        "from google.colab import drive\n",
        "from fuzzywuzzy import fuzz\n",
        "import PyPDF2\n",
        "\n",
        "# Mount Google Drive\n",
        "#drive.mount('/content/drive')\n",
        "\n",
        "# Function to get all PDF files from a folder\n",
        "def get_pdfs_from_folder(folder_path):\n",
        "    return [f for f in os.listdir(folder_path) if f.endswith('.pdf')]\n",
        "\n",
        "# Function to merge two or more PDFs\n",
        "def merge_pdfs(input_pdfs, output_path):\n",
        "    merger = PyPDF2.PdfMerger()\n",
        "    for pdf in input_pdfs:\n",
        "        with open(pdf, 'rb') as f:\n",
        "            merger.append(f)\n",
        "    with open(output_path, 'wb') as f_out:\n",
        "        merger.write(f_out)\n",
        "\n",
        "# Function to compare names based on a similarity threshold\n",
        "def compare_names(name1, name2, threshold=85):\n",
        "    similarity = fuzz.token_sort_ratio(name1, name2)\n",
        "    return similarity >= threshold, similarity\n",
        "\n",
        "# Function to process all folders and handle merging\n",
        "def process_folders(folder_paths, output_directory):\n",
        "    all_pdfs = {}\n",
        "\n",
        "    # Collect all PDF names from the folders\n",
        "    for folder in folder_paths:\n",
        "        pdfs = get_pdfs_from_folder(folder)\n",
        "        for pdf in pdfs:\n",
        "            name = os.path.splitext(pdf)[0]\n",
        "            if name not in all_pdfs:\n",
        "                all_pdfs[name] = [os.path.join(folder, pdf)]\n",
        "            else:\n",
        "                all_pdfs[name].append(os.path.join(folder, pdf))\n",
        "\n",
        "    # Handle merging across folders and within the same folder\n",
        "    handled_names = set()  # Keep track of processed names\n",
        "\n",
        "    for name1 in list(all_pdfs.keys()):\n",
        "        for name2 in list(all_pdfs.keys()):\n",
        "            if name1 != name2 and name1 not in handled_names and name2 not in handled_names:\n",
        "                is_similar, similarity = compare_names(name1, name2)\n",
        "                if is_similar:\n",
        "                    print(f\"Names '{name1}' and '{name2}' are {similarity}% similar.\")\n",
        "                    confirmation = input(f\"Do you want to merge them? (y/n): \").strip().lower()\n",
        "                    if confirmation == 'y':\n",
        "                        # Modify the merged file name as per the requirement\n",
        "                        merged_file_name = f\"{name1} {name2}.pdf\"  # Space separating first and last names\n",
        "                        output_path = os.path.join(output_directory, merged_file_name)\n",
        "                        merge_pdfs(all_pdfs[name1] + all_pdfs[name2], output_path)\n",
        "                        print(f\"Merged files into {output_path}\")\n",
        "                        handled_names.update([name1, name2])\n",
        "\n",
        "    # Handle single files (appearing in only one folder)\n",
        "    for name in all_pdfs.keys():\n",
        "        if name not in handled_names:\n",
        "            if len(all_pdfs[name]) == 1:  # If a name appears only once\n",
        "                print(f\"The file '{name}' appears only in one folder.\")\n",
        "                confirmation = input(f\"Do you want to move this file to the merged folder? (y/n): \").strip().lower()\n",
        "                if confirmation == 'y':\n",
        "                    output_path = os.path.join(output_directory, f\"{name}.pdf\")  # No merge needed for single name\n",
        "                    merge_pdfs(all_pdfs[name], output_path)\n",
        "                    print(f\"Moved single file into {output_path}\")\n",
        "            else:\n",
        "                # Automatically merge exact matches across folders\n",
        "                output_path = os.path.join(output_directory, f\"{name}.pdf\")  # No \"Merged_\" prefix\n",
        "                merge_pdfs(all_pdfs[name], output_path)\n",
        "                print(f\"Merged exact name files into {output_path}\")\n",
        "\n",
        "# Main function\n",
        "def main():\n",
        "    # Define the paths for the folders in Google Drive\n",
        "    folder_paths = [\n",
        "        '/content/drive/MyDrive/Imeta Docs/IMETA CURRICULUM AND SCHEME OF WORK/BDA Programme/3rd DBS Cohort/Reports/week 9/D1',\n",
        "     '//content/drive/MyDrive/Imeta Docs/IMETA CURRICULUM AND SCHEME OF WORK/BDA Programme/3rd DBS Cohort/Reports/week 9/D2',\n",
        "    '/content/drive/MyDrive/Imeta Docs/IMETA CURRICULUM AND SCHEME OF WORK/BDA Programme/3rd DBS Cohort/Reports/week 9/D3',\n",
        "    '/content/drive/MyDrive/Imeta Docs/IMETA CURRICULUM AND SCHEME OF WORK/BDA Programme/3rd DBS Cohort/Reports/week 9/D4'\n",
        "    ]\n",
        "\n",
        "    # Define the output directory on Google Drive\n",
        "    output_directory = '/content/drive/MyDrive/Imeta Docs/IMETA CURRICULUM AND SCHEME OF WORK/BDA Programme/3rd DBS Cohort/Reports/week 9/merged'\n",
        "\n",
        "    # Process all folders for merging\n",
        "    process_folders(folder_paths, output_directory)\n",
        "\n",
        "if __name__ == \"__main__\":\n",
        "    main()"
      ]
    },
    {
      "cell_type": "code",
      "execution_count": null,
      "metadata": {
        "colab": {
          "base_uri": "https://localhost:8080/"
        },
        "id": "VT-erI1APNHs",
        "outputId": "30fc5a82-b4a3-4691-f41a-08fef32ecb75"
      },
      "outputs": [
        {
          "output_type": "stream",
          "name": "stdout",
          "text": [
            "Names 'Dada Njohku Takem scholarstica' and 'Dada Njohku Takem Scholarstica' are 100% similar.\n",
            "Do you want to merge them? (y/n): y\n",
            "Merged files into /content/drive/MyDrive/Imeta Docs/IMETA CURRICULUM AND SCHEME OF WORK/BDA Programme/9th Cohort/Reports/week2/merged/Dada Njohku Takem scholarstica Dada Njohku Takem Scholarstica.pdf\n",
            "Names 'Oluwaseun Micheal Idowu' and 'Oluwaseun micheal idowu' are 100% similar.\n",
            "Do you want to merge them? (y/n): y\n",
            "Merged files into /content/drive/MyDrive/Imeta Docs/IMETA CURRICULUM AND SCHEME OF WORK/BDA Programme/9th Cohort/Reports/week2/merged/Oluwaseun Micheal Idowu Oluwaseun micheal idowu.pdf\n",
            "Names 'Sabia Begum' and 'sabia begum' are 100% similar.\n",
            "Do you want to merge them? (y/n): y\n",
            "Merged files into /content/drive/MyDrive/Imeta Docs/IMETA CURRICULUM AND SCHEME OF WORK/BDA Programme/9th Cohort/Reports/week2/merged/Sabia Begum sabia begum.pdf\n",
            "Merged exact name files into /content/drive/MyDrive/Imeta Docs/IMETA CURRICULUM AND SCHEME OF WORK/BDA Programme/9th Cohort/Reports/week2/merged/Andrew Ugwueru.pdf\n",
            "Merged exact name files into /content/drive/MyDrive/Imeta Docs/IMETA CURRICULUM AND SCHEME OF WORK/BDA Programme/9th Cohort/Reports/week2/merged/Andreea Pascale.pdf\n",
            "Merged exact name files into /content/drive/MyDrive/Imeta Docs/IMETA CURRICULUM AND SCHEME OF WORK/BDA Programme/9th Cohort/Reports/week2/merged/Bunmi Timilehin.pdf\n",
            "Merged exact name files into /content/drive/MyDrive/Imeta Docs/IMETA CURRICULUM AND SCHEME OF WORK/BDA Programme/9th Cohort/Reports/week2/merged/Angelo Da Cunha.pdf\n",
            "Merged exact name files into /content/drive/MyDrive/Imeta Docs/IMETA CURRICULUM AND SCHEME OF WORK/BDA Programme/9th Cohort/Reports/week2/merged/Claudette Asare.pdf\n",
            "Merged exact name files into /content/drive/MyDrive/Imeta Docs/IMETA CURRICULUM AND SCHEME OF WORK/BDA Programme/9th Cohort/Reports/week2/merged/Bryan Quarrie.pdf\n",
            "Merged exact name files into /content/drive/MyDrive/Imeta Docs/IMETA CURRICULUM AND SCHEME OF WORK/BDA Programme/9th Cohort/Reports/week2/merged/Anwar Hussain.pdf\n",
            "Merged exact name files into /content/drive/MyDrive/Imeta Docs/IMETA CURRICULUM AND SCHEME OF WORK/BDA Programme/9th Cohort/Reports/week2/merged/Daniel Latigo Lam.pdf\n",
            "The file 'Dylan Moore' appears only in one folder.\n",
            "Do you want to move this file to the merged folder? (y/n): y\n",
            "Moved single file into /content/drive/MyDrive/Imeta Docs/IMETA CURRICULUM AND SCHEME OF WORK/BDA Programme/9th Cohort/Reports/week2/merged/Dylan Moore.pdf\n",
            "Merged exact name files into /content/drive/MyDrive/Imeta Docs/IMETA CURRICULUM AND SCHEME OF WORK/BDA Programme/9th Cohort/Reports/week2/merged/Denis Shakir.pdf\n",
            "Merged exact name files into /content/drive/MyDrive/Imeta Docs/IMETA CURRICULUM AND SCHEME OF WORK/BDA Programme/9th Cohort/Reports/week2/merged/Emmanuel Akinwande.pdf\n",
            "Merged exact name files into /content/drive/MyDrive/Imeta Docs/IMETA CURRICULUM AND SCHEME OF WORK/BDA Programme/9th Cohort/Reports/week2/merged/Fareha Batool.pdf\n",
            "The file 'haleema m' appears only in one folder.\n",
            "Do you want to move this file to the merged folder? (y/n): y\n",
            "Moved single file into /content/drive/MyDrive/Imeta Docs/IMETA CURRICULUM AND SCHEME OF WORK/BDA Programme/9th Cohort/Reports/week2/merged/haleema m.pdf\n",
            "Merged exact name files into /content/drive/MyDrive/Imeta Docs/IMETA CURRICULUM AND SCHEME OF WORK/BDA Programme/9th Cohort/Reports/week2/merged/Daniel Corral.pdf\n",
            "Merged exact name files into /content/drive/MyDrive/Imeta Docs/IMETA CURRICULUM AND SCHEME OF WORK/BDA Programme/9th Cohort/Reports/week2/merged/Haruni Shekimweri.pdf\n",
            "Merged exact name files into /content/drive/MyDrive/Imeta Docs/IMETA CURRICULUM AND SCHEME OF WORK/BDA Programme/9th Cohort/Reports/week2/merged/Khaled Elfarra.pdf\n",
            "Merged exact name files into /content/drive/MyDrive/Imeta Docs/IMETA CURRICULUM AND SCHEME OF WORK/BDA Programme/9th Cohort/Reports/week2/merged/Kolawole Ayodele.pdf\n",
            "Merged exact name files into /content/drive/MyDrive/Imeta Docs/IMETA CURRICULUM AND SCHEME OF WORK/BDA Programme/9th Cohort/Reports/week2/merged/Pawan Gupta.pdf\n",
            "Merged exact name files into /content/drive/MyDrive/Imeta Docs/IMETA CURRICULUM AND SCHEME OF WORK/BDA Programme/9th Cohort/Reports/week2/merged/Richard Pauley.pdf\n",
            "Merged exact name files into /content/drive/MyDrive/Imeta Docs/IMETA CURRICULUM AND SCHEME OF WORK/BDA Programme/9th Cohort/Reports/week2/merged/Sophia Ibi.pdf\n",
            "The file 'Shahed Osman' appears only in one folder.\n",
            "Do you want to move this file to the merged folder? (y/n): y\n",
            "Moved single file into /content/drive/MyDrive/Imeta Docs/IMETA CURRICULUM AND SCHEME OF WORK/BDA Programme/9th Cohort/Reports/week2/merged/Shahed Osman.pdf\n",
            "Merged exact name files into /content/drive/MyDrive/Imeta Docs/IMETA CURRICULUM AND SCHEME OF WORK/BDA Programme/9th Cohort/Reports/week2/merged/Saada Nassor.pdf\n",
            "Merged exact name files into /content/drive/MyDrive/Imeta Docs/IMETA CURRICULUM AND SCHEME OF WORK/BDA Programme/9th Cohort/Reports/week2/merged/Rikiah Williams.pdf\n",
            "Merged exact name files into /content/drive/MyDrive/Imeta Docs/IMETA CURRICULUM AND SCHEME OF WORK/BDA Programme/9th Cohort/Reports/week2/merged/Zita Anwenyuie.pdf\n",
            "Merged exact name files into /content/drive/MyDrive/Imeta Docs/IMETA CURRICULUM AND SCHEME OF WORK/BDA Programme/9th Cohort/Reports/week2/merged/Stephen Brophy.pdf\n",
            "Merged exact name files into /content/drive/MyDrive/Imeta Docs/IMETA CURRICULUM AND SCHEME OF WORK/BDA Programme/9th Cohort/Reports/week2/merged/Valentine Ashu.pdf\n",
            "Merged exact name files into /content/drive/MyDrive/Imeta Docs/IMETA CURRICULUM AND SCHEME OF WORK/BDA Programme/9th Cohort/Reports/week2/merged/haleema maqsood.pdf\n",
            "Merged exact name files into /content/drive/MyDrive/Imeta Docs/IMETA CURRICULUM AND SCHEME OF WORK/BDA Programme/9th Cohort/Reports/week2/merged/Last Zunzanyika.pdf\n",
            "The file 'Shahed' appears only in one folder.\n",
            "Do you want to move this file to the merged folder? (y/n): y\n",
            "Moved single file into /content/drive/MyDrive/Imeta Docs/IMETA CURRICULUM AND SCHEME OF WORK/BDA Programme/9th Cohort/Reports/week2/merged/Shahed.pdf\n"
          ]
        }
      ],
      "source": [
        "#Merge DBA09 Files\n",
        "\n",
        "import os\n",
        "from google.colab import drive\n",
        "from fuzzywuzzy import fuzz\n",
        "import PyPDF2\n",
        "\n",
        "# Mount Google Drive\n",
        "#drive.mount('/content/drive')\n",
        "\n",
        "# Function to get all PDF files from a folder\n",
        "def get_pdfs_from_folder(folder_path):\n",
        "    return [f for f in os.listdir(folder_path) if f.endswith('.pdf')]\n",
        "\n",
        "# Function to merge two or more PDFs\n",
        "def merge_pdfs(input_pdfs, output_path):\n",
        "    merger = PyPDF2.PdfMerger()\n",
        "    for pdf in input_pdfs:\n",
        "        with open(pdf, 'rb') as f:\n",
        "            merger.append(f)\n",
        "    with open(output_path, 'wb') as f_out:\n",
        "        merger.write(f_out)\n",
        "\n",
        "# Function to compare names based on a similarity threshold\n",
        "def compare_names(name1, name2, threshold=85):\n",
        "    similarity = fuzz.token_sort_ratio(name1, name2)\n",
        "    return similarity >= threshold, similarity\n",
        "\n",
        "# Function to process all folders and handle merging\n",
        "def process_folders(folder_paths, output_directory):\n",
        "    all_pdfs = {}\n",
        "\n",
        "    # Collect all PDF names from the folders\n",
        "    for folder in folder_paths:\n",
        "        pdfs = get_pdfs_from_folder(folder)\n",
        "        for pdf in pdfs:\n",
        "            name = os.path.splitext(pdf)[0]\n",
        "            if name not in all_pdfs:\n",
        "                all_pdfs[name] = [os.path.join(folder, pdf)]\n",
        "            else:\n",
        "                all_pdfs[name].append(os.path.join(folder, pdf))\n",
        "\n",
        "    # Handle merging across folders and within the same folder\n",
        "    handled_names = set()  # Keep track of processed names\n",
        "\n",
        "    for name1 in list(all_pdfs.keys()):\n",
        "        for name2 in list(all_pdfs.keys()):\n",
        "            if name1 != name2 and name1 not in handled_names and name2 not in handled_names:\n",
        "                is_similar, similarity = compare_names(name1, name2)\n",
        "                if is_similar:\n",
        "                    print(f\"Names '{name1}' and '{name2}' are {similarity}% similar.\")\n",
        "                    confirmation = input(f\"Do you want to merge them? (y/n): \").strip().lower()\n",
        "                    if confirmation == 'y':\n",
        "                        # Modify the merged file name as per the requirement\n",
        "                        merged_file_name = f\"{name1} {name2}.pdf\"  # Space separating first and last names\n",
        "                        output_path = os.path.join(output_directory, merged_file_name)\n",
        "                        merge_pdfs(all_pdfs[name1] + all_pdfs[name2], output_path)\n",
        "                        print(f\"Merged files into {output_path}\")\n",
        "                        handled_names.update([name1, name2])\n",
        "\n",
        "    # Handle single files (appearing in only one folder)\n",
        "    for name in all_pdfs.keys():\n",
        "        if name not in handled_names:\n",
        "            if len(all_pdfs[name]) == 1:  # If a name appears only once\n",
        "                print(f\"The file '{name}' appears only in one folder.\")\n",
        "                confirmation = input(f\"Do you want to move this file to the merged folder? (y/n): \").strip().lower()\n",
        "                if confirmation == 'y':\n",
        "                    output_path = os.path.join(output_directory, f\"{name}.pdf\")  # No merge needed for single name\n",
        "                    merge_pdfs(all_pdfs[name], output_path)\n",
        "                    print(f\"Moved single file into {output_path}\")\n",
        "            else:\n",
        "                # Automatically merge exact matches across folders\n",
        "                output_path = os.path.join(output_directory, f\"{name}.pdf\")  # No \"Merged_\" prefix\n",
        "                merge_pdfs(all_pdfs[name], output_path)\n",
        "                print(f\"Merged exact name files into {output_path}\")\n",
        "\n",
        "# Main function\n",
        "def main():\n",
        "    # Define the paths for the folders in Google Drive\n",
        "    folder_paths = [\n",
        "    '/content/drive/MyDrive/Imeta Docs/IMETA CURRICULUM AND SCHEME OF WORK/BDA Programme/9th Cohort/Reports/week2/D1',\n",
        "     '/content/drive/MyDrive/Imeta Docs/IMETA CURRICULUM AND SCHEME OF WORK/BDA Programme/9th Cohort/Reports/week2/D2',\n",
        "     '/content/drive/MyDrive/Imeta Docs/IMETA CURRICULUM AND SCHEME OF WORK/BDA Programme/9th Cohort/Reports/week2/D3',\n",
        "     '/content/drive/MyDrive/Imeta Docs/IMETA CURRICULUM AND SCHEME OF WORK/BDA Programme/9th Cohort/Reports/week2/D4'\n",
        "    ]\n",
        "\n",
        "    # Define the output directory on Google Drive\n",
        "    output_directory = '/content/drive/MyDrive/Imeta Docs/IMETA CURRICULUM AND SCHEME OF WORK/BDA Programme/9th Cohort/Reports/week2/merged'\n",
        "\n",
        "    # Process all folders for merging\n",
        "    process_folders(folder_paths, output_directory)\n",
        "\n",
        "if __name__ == \"__main__\":\n",
        "    main()"
      ]
    }
  ],
  "metadata": {
    "colab": {
      "provenance": [],
      "mount_file_id": "1vt_VnQwC_g73zpJxJzlgqlFmWuV8gBoL",
      "authorship_tag": "ABX9TyNEYnXUVN2AenYncSpj20QJ",
      "include_colab_link": true
    },
    "kernelspec": {
      "display_name": "Python 3",
      "name": "python3"
    },
    "language_info": {
      "name": "python"
    }
  },
  "nbformat": 4,
  "nbformat_minor": 0
}